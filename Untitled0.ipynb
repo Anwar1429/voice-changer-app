{
  "nbformat": 4,
  "nbformat_minor": 0,
  "metadata": {
    "colab": {
      "provenance": [],
      "toc_visible": true,
      "authorship_tag": "ABX9TyPQPcplCnUHRIPFKQNRGlJL"
    },
    "kernelspec": {
      "name": "python3",
      "display_name": "Python 3"
    },
    "language_info": {
      "name": "python"
    }
  },
  "cells": [
    {
      "cell_type": "markdown",
      "source": [
        "**Machine Learning Basics**"
      ],
      "metadata": {
        "id": "rgZIixPP4Tpy"
      }
    },
    {
      "cell_type": "markdown",
      "source": [
        "# Supervised Learning"
      ],
      "metadata": {
        "id": "7HUB7QoM5o13"
      }
    }
  ]
}